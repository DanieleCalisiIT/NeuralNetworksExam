{
  "nbformat": 4,
  "nbformat_minor": 0,
  "metadata": {
    "colab": {
      "name": "NN_colab.ipynb",
      "provenance": [],
      "mount_file_id": "https://github.com/DanieleCalisiIT/NeuralNetworksExam/blob/main/NN_colab.ipynb",
      "authorship_tag": "ABX9TyMiZQ11A+69JMRbSKd1htj1"
    },
    "kernelspec": {
      "name": "python3",
      "display_name": "Python 3"
    },
    "language_info": {
      "name": "python"
    },
    "accelerator": "GPU"
  },
  "cells": [
    {
      "cell_type": "code",
      "source": [
        "cd /content/drive/MyDrive/NN/sota-music-tagging-models"
      ],
      "metadata": {
        "id": "VsMQY_hotVKo"
      },
      "execution_count": null,
      "outputs": []
    },
    {
      "cell_type": "code",
      "source": [
        "!pip install -r requirements.txt --no-cache-dir"
      ],
      "metadata": {
        "id": "SwMyhJ6atab3"
      },
      "execution_count": null,
      "outputs": []
    },
    {
      "cell_type": "code",
      "source": [
        "!python -u mtat_read.py run /content/drive/MyDrive/NN/MagnaTagATune/dataset/mp3/"
      ],
      "metadata": {
        "id": "NZ0C8R4OvB3C"
      },
      "execution_count": null,
      "outputs": []
    },
    {
      "cell_type": "markdown",
      "source": [
        "______________________________________________________________________________"
      ],
      "metadata": {
        "id": "xAUPHOp_vpLy"
      }
    },
    {
      "cell_type": "code",
      "source": [
        "cd /content/drive/MyDrive/NN"
      ],
      "metadata": {
        "id": "2ulKAn_byrFb",
        "outputId": "ab5a15f5-80cc-4db0-80bc-37135d946d43",
        "colab": {
          "base_uri": "https://localhost:8080/"
        }
      },
      "execution_count": null,
      "outputs": [
        {
          "output_type": "stream",
          "name": "stdout",
          "text": [
            "/content/drive/MyDrive/NN\n"
          ]
        }
      ]
    },
    {
      "cell_type": "code",
      "source": [
        "!git clone https://github.com/tae-jun/resemul"
      ],
      "metadata": {
        "id": "HAm4nFKEys0a"
      },
      "execution_count": null,
      "outputs": []
    },
    {
      "cell_type": "code",
      "source": [
        "cd /content/drive/MyDrive/NN/resemul"
      ],
      "metadata": {
        "id": "-EWvYn_dzSqz"
      },
      "execution_count": null,
      "outputs": []
    },
    {
      "cell_type": "code",
      "source": [
        "!pip install -r requirements.txt"
      ],
      "metadata": {
        "id": "q5ULKOs1zDvD"
      },
      "execution_count": null,
      "outputs": []
    },
    {
      "cell_type": "code",
      "source": [
        "!pip install madmom"
      ],
      "metadata": {
        "id": "dlFNKBVa0P-8"
      },
      "execution_count": null,
      "outputs": []
    },
    {
      "cell_type": "code",
      "source": [
        "!add-apt-repository ppa:mc3man/trusty-media\n",
        "!apt-get update\n",
        "!apt-get dist-upgrade\n",
        "!apt-get install ffmpeg"
      ],
      "metadata": {
        "id": "ucaAqV-q3vRN"
      },
      "execution_count": null,
      "outputs": []
    },
    {
      "cell_type": "code",
      "source": [
        "!python build_mtt.py"
      ],
      "metadata": {
        "id": "UYlmPgZN4zz9"
      },
      "execution_count": null,
      "outputs": []
    },
    {
      "cell_type": "code",
      "source": [
        "!python train.py --data-dir /content/drive/MyDrive/NN/MagnaTagATune/dataset/tfrecord --train-dir /content/drive/MyDrive/NN/MagnaTagATune/dataset/trainlogs"
      ],
      "metadata": {
        "id": "_jZhx08gIVJ6"
      },
      "execution_count": null,
      "outputs": []
    },
    {
      "cell_type": "markdown",
      "source": [
        "_________________________________________________________________________________________________"
      ],
      "metadata": {
        "id": "OMfa6zJ70Wdb"
      }
    },
    {
      "cell_type": "code",
      "source": [
        "cd /content/drive/MyDrive/NN/c3-gan"
      ],
      "metadata": {
        "id": "nHxJDinSFkmX"
      },
      "execution_count": null,
      "outputs": []
    },
    {
      "cell_type": "code",
      "source": [
        "!python train.py"
      ],
      "metadata": {
        "id": "dq5QByEnGHhX"
      },
      "execution_count": null,
      "outputs": []
    },
    {
      "cell_type": "markdown",
      "source": [
        "_________________________________________________________________________________________________"
      ],
      "metadata": {
        "id": "GQxPdXeJIIBX"
      }
    }
  ]
}